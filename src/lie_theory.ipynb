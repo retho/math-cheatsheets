{
 "cells": [
  {
   "attachments": {},
   "cell_type": "markdown",
   "metadata": {},
   "source": [
    "Источники:\n",
    "- [1, Головин] С.В. Головин, А.А. Чесноков \"Групповой анализ дифференциальных уравнений\" Электронное учебное пособие, Новосибирск, 2009\n",
    "- [2, Олвер] П. Олвер \"Приложения групп Ли к дифференциальным уравнениям\", Москва \"Мир\" 1989\n",
    "\n",
    "А также:\n",
    "- https://en.wikipedia.org/wiki/Lie_group\n",
    "- https://en.wikipedia.org/wiki/Vector_field\n",
    "- https://en.wikipedia.org/wiki/Exponential_map_(Lie_theory)"
   ]
  },
  {
   "attachments": {},
   "cell_type": "markdown",
   "metadata": {},
   "source": [
    "\n",
    "\n",
    "Однопараметричесская группа $G \\le \\text{Diff} \\, \\mathbb{R}^n$ и ее параметризация $T\\colon \\Delta \\subseteq \\mathbb{R} \\to G$, $T_{a_0} = \\mathbb{1}_G$, $T_{\\phi(a,b)} = T_a T_b$.\n",
    "Формула канонического параметра (aka натуральная параметризация, когда $\\bar T_{\\bar a} \\bar T_{\\bar b} = \\bar T_{\\bar a + \\bar b}$):\n",
    "$$\n",
    "\\bar a (a) = \\int_{a_0}^a \\frac{ds}{A(s)}, \\quad A(a) = \\frac{\\partial \\phi(a, b)}{\\partial b} \\biggr|_{b=a_0}\n",
    "$$"
   ]
  },
  {
   "attachments": {},
   "cell_type": "markdown",
   "metadata": {},
   "source": [
    "Пусть $T_a$ - каноническая параметризация, $f(x, a) = T_a (x)$ - производящая функция. Инфинитезимальным оператором (aka генератором однопараметрической подгруппы) называется векторное поле\n",
    "$$\n",
    "X = \\sum_{i=1}^n \\xi^i(x) \\partial_{x^i}, \\quad \\xi^i(x) = \\frac{\\partial f^i(x, a)}{\\partial a} \\biggr|_{a=0}\n",
    "$$"
   ]
  },
  {
   "attachments": {},
   "cell_type": "markdown",
   "metadata": {},
   "source": [
    "[Головин стр. 7]\n",
    "\n",
    "Замена координат $\\{x^i\\}$ на $\\{y^i\\}$ векторного поля (суммирование по повторяющимся индексам):\n",
    "$$\n",
    "X = \\xi^i (x) \\partial_{x^i} = X(y^i) \\partial_{y^i} = \\eta^i(y) \\partial_{y^i} \\quad \\eta^i (y) = \\xi^j (x) {\\partial y^i \\over \\partial x^j}\n",
    "$$"
   ]
  },
  {
   "attachments": {},
   "cell_type": "markdown",
   "metadata": {},
   "source": [
    "[Головин стр. 7]\n",
    "\n",
    "Уравнения Ли\n",
    "$$\n",
    "\\frac{\\partial \\bar x}{\\partial a} = \\xi(\\bar x), \\quad \\bar x \\big|_{a=0} = x\n",
    "$$\n",
    "определяют обратное отображение $\\exp \\colon \\mathfrak{g} \\to G, X \\mapsto \\gamma(1)$, где $\\gamma \\colon \\mathbb{R} \\to G, x \\mapsto \\bar x = f(x, a)$ - такая параметризация, что ее инфинитезимальным оператором является $\\xi$."
   ]
  },
  {
   "attachments": {},
   "cell_type": "markdown",
   "metadata": {},
   "source": [
    "[Головин стр. 7]\n",
    "\n",
    "Выпрямление оператора - переход к координатам ${y^i}$ в которых однопараметрическая подгруппа ${\\exp(aX), a \\in \\mathbb{R}}$ имеет вид: $\\exp(aX) \\colon y \\mapsto (y_1 + a, y_2, ..., y_n)$. Координатные функции $y^i$ можно найти из системы диф. уравнений:\n",
    "$$\n",
    "\\begin{dcases}\n",
    "X y^1(x) = 1\\\\\n",
    "X y^i(x) = 0 & i = 2, ..., n\n",
    "\\end{dcases}\n",
    "$$"
   ]
  },
  {
   "attachments": {},
   "cell_type": "markdown",
   "metadata": {},
   "source": [
    "[Головин стр 14]\n",
    "\n",
    "Формула продолжения оператора $X = \\xi^i(x, u) \\partial_{x^i} + \\eta^\\alpha(x, u) \\partial_{u^\\alpha}$ имеет вид\n",
    "$$\n",
    "\\underset{k}{X} = \\xi^i \\partial_{x^i} + \\eta^\\alpha \\partial_{u^\\alpha} + \\zeta^\\alpha_i \\partial_{u^\\alpha_i} + \\dots + \\zeta^\\alpha_{i_1...i_l} \\partial_{u^\\alpha_{i_1...i_k}}\n",
    "$$\n",
    "где (по повторяющимся индексам суммирование)\n",
    "$$\n",
    "\\zeta^\\alpha_{j_1...j_s} = D_{j_1}\\dots D_{j_s}(\\eta^\\alpha - u^\\alpha_i \\xi^i) + \\xi^i u^\\alpha_{i j_1 ... j_s}\n",
    "$$\n",
    "и оператор полной производной по $i$-й переменной\n",
    "$$\n",
    "D_i = \\partial_{x^i} + u^\\alpha_i \\partial_{u^\\alpha} + \\dots + u^\\alpha_{i j_1 ... j_s} \\partial_{u^\\alpha_{j_1 ... j_s}} + \\dots\n",
    "$$\n",
    "\n",
    "Или реккурентная формула:\n",
    "$$\n",
    "\\zeta^\\alpha_i = D_i \\eta^\\alpha - u^\\alpha_j D_i \\xi^j\n",
    "$$\n",
    "$$\n",
    "\\zeta^\\alpha_{i j_1 ... j_s} = D_i \\zeta^\\alpha_{j_1 ... j_s} - u^\\alpha_{r j_1 ... j_s} D_i \\xi^r\n",
    "$$"
   ]
  },
  {
   "attachments": {},
   "cell_type": "markdown",
   "metadata": {},
   "source": [
    "Свойства продолжения векторных полей (линейность и сохранение коммутатора): [Олвер стр. 160], [Головин стр. 15]"
   ]
  },
  {
   "attachments": {},
   "cell_type": "markdown",
   "metadata": {},
   "source": [
    "TODO: вычисление дифференциальных инвариантов из дифференцированием дифинвариантов 1-го порядка по инвариантам (головин, олвер?)\n",
    "[головин = стр???]\n",
    "[олвер=стр.190 Предложение 2.53 для двумерного случая]\n",
    "[олвер = стр.???]"
   ]
  },
  {
   "attachments": {},
   "cell_type": "markdown",
   "metadata": {},
   "source": [
    "TODO: Общий вид ур-ния, допускающего группу инвариантов ([Олвер=стр.188], [Головин=стр.??])"
   ]
  },
  {
   "cell_type": "markdown",
   "metadata": {},
   "source": []
  }
 ],
 "metadata": {
  "kernelspec": {
   "display_name": "Julia (sysimage, threads) 1.8.4",
   "language": "julia",
   "name": "julia-_sysimage_-threads_-1.8"
  },
  "language_info": {
   "file_extension": ".jl",
   "mimetype": "application/julia",
   "name": "julia",
   "version": "1.8.4"
  },
  "orig_nbformat": 4,
  "vscode": {
   "interpreter": {
    "hash": "3b7e9cb8e453d6cda0fe8c8dd13f891a1f09162f0e7c66ffeae7751a7aecf00d"
   }
  }
 },
 "nbformat": 4,
 "nbformat_minor": 2
}
